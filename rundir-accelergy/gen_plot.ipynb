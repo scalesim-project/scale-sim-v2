{
 "cells": [
  {
   "cell_type": "code",
   "execution_count": null,
   "source": [
    "import matplotlib.pyplot as plt\n",
    "import numpy as np\n",
    "import pylab as pl\n",
    "import yaml\n",
    "import pandas as pd"
   ],
   "outputs": [],
   "metadata": {}
  },
  {
   "cell_type": "code",
   "execution_count": null,
   "source": [
    "import os\n",
    "os.getcwd() "
   ],
   "outputs": [],
   "metadata": {}
  },
  {
   "cell_type": "markdown",
   "source": [
    "# Pre-defined funciton"
   ],
   "metadata": {}
  },
  {
   "cell_type": "code",
   "execution_count": null,
   "source": [
    "def extract_energy_breakdown(acclg_E):\n",
    "    energy_components = acclg_E['energy_estimation']['components']\n",
    "\n",
    "    energy_breakdown= {}\n",
    "    glb_count = 0\n",
    "    spad_count = 0\n",
    "    mac_count = 0\n",
    "    dram_count = 0\n",
    "\n",
    "    for ec in energy_components:\n",
    "        skip_rest = False\n",
    "\n",
    "        # check glb (pJ)\n",
    "        for glb in ['ifmap_glb', 'weights_glb', 'psum_glb']:\n",
    "            if glb in ec['name']:\n",
    "                assert (glb not in energy_breakdown)\n",
    "                glb_count += 1\n",
    "                energy_breakdown[glb] = ec['energy']\n",
    "                skip_rest = True\n",
    "                break\n",
    "        if skip_rest: continue\n",
    "\n",
    "        # check spad (pJ)\n",
    "        for spad in ['ifmap_spad', 'weights_spad', 'psum_spad']:\n",
    "            if spad in ec['name']:\n",
    "                spad_count += 1\n",
    "                if spad not in energy_breakdown:\n",
    "                    energy_breakdown[spad] = ec['energy']\n",
    "                else:\n",
    "                    energy_breakdown[spad] = energy_breakdown[spad] + ec['energy']\n",
    "                skip_rest = True\n",
    "   \n",
    "                break\n",
    "        if skip_rest: continue\n",
    "\n",
    "        # check mac (pJ)\n",
    "        if 'mac' in ec['name']:\n",
    "            mac_count += 1\n",
    "            if 'mac' not in energy_breakdown:\n",
    "                energy_breakdown['mac'] = ec['energy']\n",
    "            else:\n",
    "                energy_breakdown['mac'] = energy_breakdown['mac'] + ec['energy']\n",
    "        if skip_rest: continue\n",
    "\n",
    "        # check dram (nJ)\n",
    "        for dram in ['ifmap_dram', 'weights_dram', 'psum_dram']:\n",
    "            if dram in ec['name']:\n",
    "                assert (dram not in energy_breakdown)\n",
    "                dram_count += 1\n",
    "                energy_breakdown[dram] = ec['energy'] * 1000\n",
    "                skip_rest = True\n",
    "                break\n",
    "\n",
    "    return energy_breakdown"
   ],
   "outputs": [],
   "metadata": {}
  },
  {
   "cell_type": "markdown",
   "source": [
    "# Single Run "
   ],
   "metadata": {}
  },
  {
   "cell_type": "code",
   "execution_count": null,
   "source": [
    "### CHANGE THE RUN NAME (from scale.cfg) ###\n",
    "run_name = \"scale_resnet_conv_run_32x32_os\"\n",
    "acclg_outdir = \"./output/accelergy_output_\"+run_name+\"/energy_estimation.yaml\"\n",
    "scsim_outdir = \"./output/scale_sim_output_\"+run_name+\"/COMPUTE_REPORT.csv\"\n",
    "############################################\n",
    "\n",
    "\n",
    "# Load accelergy_energy results\n",
    "with open(acclg_outdir, 'r') as fr:\n",
    "    acclg_E = yaml.safe_load(fr)\n",
    "\n",
    "# Load scale-sim results\n",
    "csv_filename = scsim_outdir\n",
    "scsim_P = pd.read_csv(csv_filename, sep=r'\\s*,\\s*', engine='python')\n",
    "\n",
    "\n",
    "energy_breakdown_32x32_os = extract_energy_breakdown(acclg_E)\n",
    "layer_utilization = (scsim_P['Compute Util %']).values.tolist()\n",
    "layer_runtime = scsim_P['Total Cycles'].values.tolist()\n",
    "\n"
   ],
   "outputs": [],
   "metadata": {}
  },
  {
   "cell_type": "code",
   "execution_count": null,
   "source": [
    "labels_32x32_os = []\n",
    "values_32x32_os = []\n",
    "for k,v in energy_breakdown_32x32_os.items():\n",
    "    labels_32x32_os.append(k)\n",
    "    values_32x32_os.append(v/1000000)\n",
    "    print(k,v/1000000)\n",
    "\n",
    "values = [list(x) for x in zip(values_32x32_os)]\n",
    "    \n",
    "ax = plt.figure(figsize=(12,5))\n",
    "bar_plot = plt.barh(['32x32_os'], values[0])\n",
    "left_coor = values[0]\n",
    "\n",
    "for n in range(1,len(values)):\n",
    "    plt.barh(['32x32_os'], values[n], left=left_coor)\n",
    "    left_coor = [x1+x2 for x1,x2 in zip(left_coor, values[n])]\n",
    "    \n",
    "plt.title(run_name)    \n",
    "plt.legend(labels_32x32_os, ncol=4, bbox_to_anchor=(0.98, -0.15), fontsize=13)\n",
    "plt.xlabel('Energy (uJ)', fontsize=15)\n",
    "\n",
    "plt.yticks(fontsize=15)\n",
    "plt.xticks(fontsize=12)\n",
    "\n",
    "plt.show()\n",
    "\n",
    "print(\"Runtime for each layer (cycles)\", layer_runtime)\n",
    "print(\"Utilizations for each layer (%)\", layer_utilization)"
   ],
   "outputs": [],
   "metadata": {}
  },
  {
   "cell_type": "code",
   "execution_count": null,
   "source": [],
   "outputs": [],
   "metadata": {}
  },
  {
   "cell_type": "markdown",
   "source": [
    "# For Report (Outdated, TO BE FIXED)"
   ],
   "metadata": {}
  },
  {
   "cell_type": "markdown",
   "source": [
    "## Different Sizes\n"
   ],
   "metadata": {}
  },
  {
   "cell_type": "code",
   "execution_count": null,
   "source": [
    "# Load accelergy_energy estimator\n",
    "with open(\"./output/accelergy_output/scale_resnet_conv_run_32x32_os/energy_estimation.yaml\", 'r') as fr:\n",
    "    acclg_E = yaml.safe_load(fr)\n",
    "\n",
    "energy_breakdown_32x32_os = extract_energy_breakdown(acclg_E)\n",
    "\n",
    "# Load accelergy_energy estimator\n",
    "with open(\"./output/accelergy_output/scale_resnet_conv_run_64x64_os/energy_estimation.yaml\", 'r') as fr:\n",
    "    acclg_E = yaml.safe_load(fr)\n",
    "\n",
    "energy_breakdown_64x64_os = extract_energy_breakdown(acclg_E)\n",
    "\n",
    "# Load accelergy_energy estimator\n",
    "with open(\"./output/accelergy_output/scale_resnet_conv_run_16x16_os/energy_estimation.yaml\", 'r') as fr:\n",
    "    acclg_E = yaml.safe_load(fr)\n",
    "\n",
    "energy_breakdown_16x16_os = extract_energy_breakdown(acclg_E)\n",
    "\n"
   ],
   "outputs": [],
   "metadata": {}
  },
  {
   "cell_type": "code",
   "execution_count": null,
   "source": [
    "labels_16x16_os = []\n",
    "values_16x16_os = []\n",
    "for k,v in energy_breakdown_16x16_os.items():\n",
    "    labels_16x16_os.append(k)\n",
    "    values_16x16_os.append(v/1000000)\n",
    "\n",
    "labels_32x32_os = []\n",
    "values_32x32_os = []\n",
    "for k,v in energy_breakdown_32x32_os.items():\n",
    "    labels_32x32_os.append(k)\n",
    "    values_32x32_os.append(v/1000000)\n",
    "\n",
    "labels_64x64_os = []\n",
    "values_64x64_os = []\n",
    "for k,v in energy_breakdown_64x64_os.items():\n",
    "    labels_64x64_os.append(k)\n",
    "    values_64x64_os.append(v/1000000)   \n",
    "\n",
    "    \n",
    "values = [list(x) for x in zip(values_16x16_os, values_32x32_os, values_64x64_os)]\n",
    "\n",
    "\n",
    "ax = plt.figure(figsize=(10,5))\n",
    "bar_plot = plt.barh(['16x16_os', '32x32_os', '64x64_os'], values[0])\n",
    "left_coor = values[0]\n",
    "\n",
    "for n in range(1,7):\n",
    "    plt.barh(['16x16_os', '32x32_os', '64x64_os'], values[n], left=left_coor)\n",
    "    left_coor = [x1+x2 for x1,x2 in zip(left_coor, values[n])]\n",
    "    \n",
    "    \n",
    "plt.legend(labels_32x32_os, ncol=4, bbox_to_anchor=(0.98, -0.15), fontsize=13)\n",
    "plt.xlabel('Energy (uJ)', fontsize=15)\n",
    "\n",
    "plt.yticks(fontsize=15)\n",
    "plt.xticks(fontsize=12)\n",
    "\n",
    "plt.show()"
   ],
   "outputs": [],
   "metadata": {}
  },
  {
   "cell_type": "markdown",
   "source": [
    "## Different Dataflows"
   ],
   "metadata": {}
  },
  {
   "cell_type": "code",
   "execution_count": null,
   "source": [
    "# Load accelergy_energy estimator\n",
    "with open(\"./output/accelergy_output/scale_resnet_conv_run_32x32_is/energy_estimation.yaml\", 'r') as fr:\n",
    "    acclg_E = yaml.safe_load(fr)\n",
    "\n",
    "energy_breakdown_32x32_is = extract_energy_breakdown(acclg_E)\n",
    "\n",
    "# Load accelergy_energy estimator\n",
    "with open(\"./output/accelergy_output/scale_resnet_conv_run_32x32_ws/energy_estimation.yaml\", 'r') as fr:\n",
    "    acclg_E = yaml.safe_load(fr)\n",
    "\n",
    "energy_breakdown_32x32_ws = extract_energy_breakdown(acclg_E)\n",
    "\n",
    "# Load accelergy_energy estimator\n",
    "with open(\"./output/accelergy_output/scale_resnet_conv_run_32x32_os/energy_estimation.yaml\", 'r') as fr:\n",
    "    acclg_E = yaml.safe_load(fr)\n",
    "\n",
    "energy_breakdown_32x32_os = extract_energy_breakdown(acclg_E)"
   ],
   "outputs": [],
   "metadata": {}
  },
  {
   "cell_type": "code",
   "execution_count": null,
   "source": [
    "labels_32x32_is = []\n",
    "values_32x32_is = []\n",
    "for k,v in energy_breakdown_32x32_is.items():\n",
    "    labels_32x32_is.append(k)\n",
    "    values_32x32_is.append(v/1000000)\n",
    "\n",
    "labels_32x32_ws = []\n",
    "values_32x32_ws = []\n",
    "for k,v in energy_breakdown_32x32_ws.items():\n",
    "    labels_32x32_ws.append(k)\n",
    "    values_32x32_ws.append(v/1000000)\n",
    "\n",
    "labels_32x32_os = []\n",
    "values_32x32_os = []\n",
    "for k,v in energy_breakdown_32x32_os.items():\n",
    "    labels_32x32_os.append(k)\n",
    "    values_32x32_os.append(v/1000000)\n",
    "    \n",
    "values = [list(x) for x in zip(values_32x32_is, values_32x32_ws, values_32x32_os)]\n",
    "\n",
    "\n",
    "ax = plt.figure(figsize=(10,5))\n",
    "bar_plot = plt.barh(['32x32_is', '32x32_ws', '32x32_os'], values[0])\n",
    "left_coor = values[0]\n",
    "\n",
    "\n",
    "for n in range(1,7):\n",
    "    plt.barh(['32x32_is', '32x32_ws', '32x32_os'], values[n], left=left_coor)\n",
    "    left_coor = [x1+x2 for x1,x2 in zip(left_coor, values[n])]\n",
    "\n",
    "    \n",
    "plt.yticks(fontsize=15)\n",
    "plt.xticks(fontsize=12)\n",
    "\n",
    "plt.legend(labels_32x32_ws, ncol=4, bbox_to_anchor=(0.98, -0.15),fontsize=13)\n",
    "plt.xlabel('Energy (uJ)', fontsize=15)\n",
    "plt.show()"
   ],
   "outputs": [],
   "metadata": {}
  }
 ],
 "metadata": {
  "kernelspec": {
   "name": "python3",
   "display_name": "Python 3.9.12 64-bit"
  },
  "language_info": {
   "codemirror_mode": {
    "name": "ipython",
    "version": 3
   },
   "file_extension": ".py",
   "mimetype": "text/x-python",
   "name": "python",
   "nbconvert_exporter": "python",
   "pygments_lexer": "ipython3",
   "version": "3.9.12"
  },
  "interpreter": {
   "hash": "aee8b7b246df8f9039afb4144a1f6fd8d2ca17a180786b69acc140d282b71a49"
  }
 },
 "nbformat": 4,
 "nbformat_minor": 4
}